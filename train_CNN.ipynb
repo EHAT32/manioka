{
 "cells": [
  {
   "cell_type": "markdown",
   "id": "b12b90b4",
   "metadata": {},
   "source": [
    "# Обучение CNN модели"
   ]
  },
  {
   "cell_type": "code",
   "execution_count": 1,
   "id": "cc67dc5e",
   "metadata": {},
   "outputs": [],
   "source": [
    "import numpy as np\n",
    "import pandas as pd\n",
    "import os\n",
    "from ultralytics import YOLO\n",
    "from PIL import Image\n",
    "import cv2"
   ]
  },
  {
   "cell_type": "markdown",
   "id": "9aec16f8",
   "metadata": {},
   "source": [
    "Загрузка данных"
   ]
  },
  {
   "cell_type": "code",
   "execution_count": 2,
   "id": "05636a5e",
   "metadata": {},
   "outputs": [],
   "source": [
    "train_data_path = \"images/train\"\n",
    "test_data_path = \"images/test\"\n",
    "\n",
    "train_df = pd.read_csv(\"Train.csv\")\n",
    "test_df = pd.read_csv(\"Test.csv\")"
   ]
  },
  {
   "cell_type": "markdown",
   "id": "9e8383ea",
   "metadata": {},
   "source": [
    "Загрузка сегментатора, который мы обучили в ```finetune_seg.ipynb```"
   ]
  }
 ],
 "metadata": {
  "kernelspec": {
   "display_name": "manioka",
   "language": "python",
   "name": "python3"
  },
  "language_info": {
   "codemirror_mode": {
    "name": "ipython",
    "version": 3
   },
   "file_extension": ".py",
   "mimetype": "text/x-python",
   "name": "python",
   "nbconvert_exporter": "python",
   "pygments_lexer": "ipython3",
   "version": "3.10.16"
  }
 },
 "nbformat": 4,
 "nbformat_minor": 5
}

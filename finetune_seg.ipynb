{
 "cells": [
  {
   "cell_type": "markdown",
   "metadata": {},
   "source": [
    "# Дообучение сегментатора на полных изображениях"
   ]
  },
  {
   "cell_type": "code",
   "execution_count": 1,
   "metadata": {},
   "outputs": [],
   "source": [
    "from model import RootVolumeNet\n",
    "from dataset import RootVolumeDataset\n",
    "import numpy as np\n",
    "import pandas as pd\n",
    "import torch\n",
    "import torch.nn as nn\n",
    "from torch.utils.data import DataLoader\n",
    "from torch.nn.utils.rnn import pad_sequence"
   ]
  },
  {
   "cell_type": "code",
   "execution_count": 4,
   "metadata": {},
   "outputs": [],
   "source": [
    "def nearest_power_of_2(n):\n",
    "    return 2 ** int(np.ceil(np.log2(n)))\n",
    "\n",
    "def find_max_slice(csv_path):\n",
    "    df = pd.read_csv(csv_path)\n",
    "    return nearest_power_of_2(np.max(df[\"End\"] - df[\"Start\"]) + 1)\n",
    "\n",
    "def get_params():\n",
    "    size_file = open(\"target_size.txt\", \"r\")\n",
    "    width, height = [int(line.replace(\"\\n\", \"\").split(\" \")[-1]) for line in size_file.readlines()]\n",
    "    params = {}\n",
    "    params[\"width\"] = width\n",
    "    params[\"height\"] = height\n",
    "    params[\"max_slices\"] = find_max_slice(\"Train.csv\")\n",
    "    return params"
   ]
  },
  {
   "cell_type": "code",
   "execution_count": null,
   "metadata": {},
   "outputs": [],
   "source": [
    "params = get_params()\n",
    "device = torch.device(\"cuda:0\" if torch.cuda.is_available() else \"cpu\")\n",
    "train_path = \"Train.csv\"\n",
    "img_path = \"images/train/\"\n",
    "dataset = RootVolumeDataset(csv_path=train_path,\n",
    "                            img_root=img_path,\n",
    "                            target_width=params['width'],\n",
    "                            target_height=params['height'],\n",
    "                            pre_segment=False)"
   ]
  },
  {
   "cell_type": "code",
   "execution_count": null,
   "metadata": {},
   "outputs": [],
   "source": [
    "  "
   ]
  }
 ],
 "metadata": {
  "kernelspec": {
   "display_name": "manioka",
   "language": "python",
   "name": "python3"
  },
  "language_info": {
   "codemirror_mode": {
    "name": "ipython",
    "version": 3
   },
   "file_extension": ".py",
   "mimetype": "text/x-python",
   "name": "python",
   "nbconvert_exporter": "python",
   "pygments_lexer": "ipython3",
   "version": "3.10.16"
  }
 },
 "nbformat": 4,
 "nbformat_minor": 2
}

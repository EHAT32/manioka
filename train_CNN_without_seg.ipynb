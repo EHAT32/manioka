{
 "cells": [
  {
   "cell_type": "markdown",
   "id": "b12b90b4",
   "metadata": {},
   "source": [
    "# Обучение CNN модели"
   ]
  },
  {
   "cell_type": "code",
   "execution_count": 86,
   "id": "cc67dc5e",
   "metadata": {},
   "outputs": [],
   "source": [
    "import numpy as np\n",
    "import pandas as pd\n",
    "import os\n",
    "from ultralytics import YOLO\n",
    "from PIL import Image\n",
    "import cv2\n",
    "import matplotlib.pyplot as plt"
   ]
  },
  {
   "cell_type": "markdown",
   "id": "9aec16f8",
   "metadata": {},
   "source": [
    "## Загрузка данных"
   ]
  },
  {
   "cell_type": "code",
   "execution_count": 87,
   "id": "05636a5e",
   "metadata": {},
   "outputs": [],
   "source": [
    "train_data_path = \"images/train\"\n",
    "test_data_path = \"images/test\"\n",
    "\n",
    "train_df = pd.read_csv(\"data/Train.csv\")\n",
    "test_df = pd.read_csv(\"data/Test.csv\")"
   ]
  },
  {
   "cell_type": "markdown",
   "id": "2a91bc65",
   "metadata": {},
   "source": [
    "### Извлечение сегментов"
   ]
  },
  {
   "cell_type": "markdown",
   "id": "ed50c9b0",
   "metadata": {},
   "source": [
    "Теперь нужно подготовить датасет для обучения модели-регрессора. Сперва извлечём сегменты"
   ]
  },
  {
   "cell_type": "code",
   "execution_count": 88,
   "id": "536a62bc",
   "metadata": {},
   "outputs": [],
   "source": [
    "models = {\"early\" : YOLO(\"seg_models/best_early.pt\"),\n",
    "          \"late\" : YOLO(\"seg_models/best_late.pt\"),\n",
    "          \"full\" : YOLO(\"seg_models/best_full.pt\"),\n",
    "          \"best\" : YOLO(\"seg_models/best.pt\")}\n",
    "\n",
    "def get_segmented_images(models, image_paths, display_image=False, do_segment = True):\n",
    "    \"\"\"Извлечение детектированных сегментов\"\"\"\n",
    "    best_res = None\n",
    "    for model in models.keys():\n",
    "        model = models[model]\n",
    "        results = model(image_paths, verbose=False)\n",
    "        if best_res is None or len(results[0].boxes.xyxy) >= len(best_res[0].boxes.xyxy):\n",
    "            best_res = results\n",
    "        # if len(results[0].boxes.xyxy) != 0:\n",
    "        #     break\n",
    "\n",
    "    results = best_res\n",
    "\n",
    "    was_segmented = len(results[0].boxes) > 3\n",
    "\n",
    "    if len(results[0].boxes.xyxy) == 0 or not do_segment:\n",
    "        # в случае отсутствия детекций\n",
    "        return [Image.open(img) for img in image_paths], was_segmented\n",
    "        \n",
    "    segmented_images = []\n",
    "    \n",
    "    for img_path, result in zip(image_paths, results):\n",
    "        original_image = Image.open(img_path)\n",
    "        \n",
    "        # Пропускаем изображения без детекций\n",
    "        if len(result.boxes.xyxy) == 0:\n",
    "            continue \n",
    "            \n",
    "        # Оставляем сегменты\n",
    "        for box in result.boxes.xyxy:\n",
    "            x1, y1, x2, y2 = map(int, box.tolist())\n",
    "            segment = original_image.crop((x1, y1, x2, y2))\n",
    "            segmented_images.append(segment)\n",
    "            \n",
    "\n",
    "    # Отрисовка для демонстрации\n",
    "    if display_image and segmented_images:\n",
    "        fig, axes = plt.subplots(1, len(segmented_images), figsize=(15, 10))\n",
    "        if len(segmented_images) == 1:\n",
    "            axes = [axes]\n",
    "        for ax, img in zip(axes, segmented_images):\n",
    "            ax.imshow(img)\n",
    "            ax.axis(\"off\")\n",
    "        plt.show()\n",
    "\n",
    "    return segmented_images, was_segmented"
   ]
  },
  {
   "cell_type": "markdown",
   "id": "17566c77",
   "metadata": {},
   "source": [
    "### Загрузка серии срезов"
   ]
  },
  {
   "cell_type": "code",
   "execution_count": 89,
   "id": "eef79746",
   "metadata": {},
   "outputs": [],
   "source": [
    "def get_images(img_root : str, folder : str, side : str, start : int, end : int) -> list[str]:\n",
    "    \"\"\"Получение списка последовательности изображений\n",
    "\n",
    "    Args:\n",
    "        img_root (str): корневая папка с изображениями\n",
    "        folder (str): папка корня\n",
    "        side (str): (L|R) сторона\n",
    "        start (int): начальный срез\n",
    "        end (int): конечный срез\n",
    "\n",
    "    Returns:\n",
    "        list[str]: список путей до изображений\n",
    "    \"\"\"\n",
    "    images = []\n",
    "    for i in range(start, end + 1):\n",
    "        path = os.path.join(\n",
    "            img_root,\n",
    "            folder,\n",
    "            f\"{folder}_{side}_{i:03d}.png\"\n",
    "        )\n",
    "        if os.path.exists(path):\n",
    "            images.append(path)\n",
    "\n",
    "    return images"
   ]
  },
  {
   "cell_type": "markdown",
   "id": "4c8915c7",
   "metadata": {},
   "source": [
    "### Компоновка сегментов"
   ]
  },
  {
   "cell_type": "code",
   "execution_count": 90,
   "id": "94fd3978",
   "metadata": {},
   "outputs": [],
   "source": [
    "def merge_segmented_images(root: str, folder: str, side: str, start: int, end: int, do_segment = True) -> Image:\n",
    "    \"\"\"Компоновка сегментов по серии срезов\n",
    "\n",
    "    Args:\n",
    "        root (str): корневой путь\n",
    "        folder (str): папка корня\n",
    "        side (str): (L|R) сторона\n",
    "        start (int): начальный срез\n",
    "        end (int): конечный срез\n",
    "\n",
    "    Returns:\n",
    "        Image: Итоговое изображение PIL.Image\n",
    "    \"\"\"\n",
    "    images_in_range = get_images(root, folder, side, start, end)\n",
    "    segmented_images, was_segmented = get_segmented_images(models, images_in_range, do_segment=do_segment)\n",
    "\n",
    "    total_width = sum(img.width for img in segmented_images)\n",
    "    max_height = max(img.height for img in segmented_images)\n",
    "    res = Image.new(\"RGBA\", (total_width, max_height * len(segmented_images)), (0, 0, 0, 0))\n",
    "    sqr_width = int(np.ceil(np.sqrt(total_width * max_height)))\n",
    "    x_offset = 0\n",
    "    y_offset = 0\n",
    "    actual_width = 0\n",
    "    for segment in segmented_images:\n",
    "        if x_offset + segment.width > sqr_width:\n",
    "            actual_width = max(actual_width, x_offset)\n",
    "            x_offset = 0\n",
    "            y_offset += max_height\n",
    "        res.paste(segment, (x_offset, y_offset))\n",
    "        x_offset += segment.width\n",
    "    actual_width = max(actual_width, x_offset)\n",
    "    actual_height = y_offset + max_height\n",
    "    res = res.crop((0, 0, actual_width, actual_height))\n",
    "\n",
    "    return res, was_segmented"
   ]
  },
  {
   "cell_type": "markdown",
   "id": "9f5f2fa9",
   "metadata": {},
   "source": [
    "## Обучение модели"
   ]
  },
  {
   "cell_type": "markdown",
   "id": "92003edf",
   "metadata": {},
   "source": [
    "Предварительно будем трансформировать данные"
   ]
  },
  {
   "cell_type": "code",
   "execution_count": 91,
   "id": "9f472071",
   "metadata": {},
   "outputs": [],
   "source": [
    "import lightning as L\n",
    "from torch.utils.data import DataLoader, Dataset\n",
    "import torch\n",
    "from torchvision.transforms import v2\n",
    "from torch import nn"
   ]
  },
  {
   "cell_type": "markdown",
   "id": "2ad626c8",
   "metadata": {},
   "source": [
    "### Датасет"
   ]
  },
  {
   "cell_type": "code",
   "execution_count": 92,
   "id": "76c438be",
   "metadata": {},
   "outputs": [],
   "source": [
    "class RootVolumeDataset(Dataset):\n",
    "    def __init__(self, df : pd.DataFrame, transform = None, is_train = True):\n",
    "        super().__init__()\n",
    "        self.df = df\n",
    "        self.transform = transform\n",
    "        self.is_train = is_train\n",
    "\n",
    "    def __getitem__(self, index):\n",
    "        image = Image.open(self.df['ImageSegments'].iloc[index]).convert(\"RGB\")\n",
    "\n",
    "        if self.transform:\n",
    "            image = self.transform(image)\n",
    "\n",
    "        if self.is_train:\n",
    "            label = self.df['RootVolume'].iloc[index]\n",
    "\n",
    "            return image, torch.tensor(label, dtype=torch.float32)\n",
    "\n",
    "        return image\n",
    "\n",
    "    def __len__(self):\n",
    "        return len(self.df)"
   ]
  },
  {
   "cell_type": "markdown",
   "id": "aeb32f5c",
   "metadata": {},
   "source": [
    "Воспроизводимость результатов"
   ]
  },
  {
   "cell_type": "code",
   "execution_count": 93,
   "id": "211131e5",
   "metadata": {},
   "outputs": [
    {
     "name": "stderr",
     "output_type": "stream",
     "text": [
      "Seed set to 0\n"
     ]
    }
   ],
   "source": [
    "def seed_everything(seed):\n",
    "    torch.manual_seed(seed) \n",
    "    torch.cuda.manual_seed(seed)\n",
    "    torch.cuda.manual_seed_all(seed)\n",
    "    torch.backends.cudnn.deterministic = True \n",
    "    torch.backends.cudnn.benchmark = False\n",
    "    L.pytorch.seed_everything(seed, workers=True)\n",
    "    \n",
    "seed_everything(0)"
   ]
  },
  {
   "cell_type": "code",
   "execution_count": 94,
   "id": "4bd82610",
   "metadata": {},
   "outputs": [],
   "source": [
    "train_transform = v2.Compose([\n",
    "    v2.Resize(size=(128, 128), antialias=True),\n",
    "    v2.RandomHorizontalFlip(p=0.5),\n",
    "    v2.ToImage(),\n",
    "    v2.ToDtype(torch.float32, scale=True),  \n",
    "    v2.Normalize(mean=[0.5], std=[0.5])\n",
    "])\n",
    "\n",
    "test_transform = v2.Compose([\n",
    "    v2.Resize(size=(128, 128), antialias=True),\n",
    "    v2.RandomHorizontalFlip(p=0.5),\n",
    "    v2.ToImage(),\n",
    "    v2.ToDtype(torch.float32, scale=True),  \n",
    "    v2.Normalize(mean=[0.5], std=[0.5])\n",
    "])"
   ]
  },
  {
   "cell_type": "markdown",
   "id": "a33fdf3f",
   "metadata": {},
   "source": [
    "### Регрессор"
   ]
  },
  {
   "cell_type": "code",
   "execution_count": 95,
   "id": "e43a6ba8",
   "metadata": {},
   "outputs": [],
   "source": [
    "class RootVolumeRegressor(L.LightningModule):\n",
    "    def __init__(self, lr=1e-3):\n",
    "        super().__init__()\n",
    "        self.lr = lr\n",
    "\n",
    "        self.conv_layers = nn.Sequential(\n",
    "            nn.Conv2d(3, 16, kernel_size=3, padding=1),\n",
    "            nn.ReLU(),\n",
    "            nn.MaxPool2d(2, 2),\n",
    "\n",
    "            nn.Conv2d(16, 32, kernel_size=3, padding=1),\n",
    "            nn.ReLU(),\n",
    "            nn.MaxPool2d(2, 2),\n",
    "\n",
    "            nn.Conv2d(32, 64, kernel_size=3, padding=1),\n",
    "            nn.ReLU(),\n",
    "            nn.AdaptiveAvgPool2d((1, 1))\n",
    "        )\n",
    "\n",
    "        # Fully Connected Regression Head\n",
    "        self.fc = nn.Sequential(\n",
    "            nn.Flatten(),\n",
    "            nn.Linear(64, 32),\n",
    "            nn.ReLU(),\n",
    "            nn.Linear(32, 1)  # Regression output\n",
    "        )\n",
    "\n",
    "        self.criterion = nn.MSELoss()\n",
    "\n",
    "    def forward(self, x):\n",
    "        x = self.conv_layers(x)\n",
    "        x = self.fc(x)\n",
    "        return x\n",
    "\n",
    "    def training_step(self, batch, batch_idx):\n",
    "        images, targets = batch\n",
    "        preds = self(images).squeeze()\n",
    "        loss = self.criterion(preds, targets)\n",
    "        self.log(\"train_loss\", loss, prog_bar=True)\n",
    "        return loss\n",
    "\n",
    "    def validation_step(self, batch, batch_idx):\n",
    "        images, targets = batch\n",
    "        preds = self(images).squeeze()\n",
    "        loss = self.criterion(preds, targets)\n",
    "        self.log(\"val_loss\", loss, prog_bar=True)\n",
    "        return loss\n",
    "\n",
    "    def configure_optimizers(self):\n",
    "        return torch.optim.Adam(self.parameters(), lr=self.lr)"
   ]
  },
  {
   "cell_type": "markdown",
   "id": "1bc6de7b",
   "metadata": {},
   "source": [
    "### Тест"
   ]
  },
  {
   "cell_type": "code",
   "execution_count": 96,
   "id": "bbcf3c48",
   "metadata": {},
   "outputs": [],
   "source": [
    "def get_model_preds(model, dataloader, device=\"cuda\" if torch.cuda.is_available() else \"cpu\"):\n",
    "    preds, targets = [], []\n",
    "    model.to(device)\n",
    "    model.eval()\n",
    "\n",
    "    with torch.no_grad():\n",
    "        for batch in dataloader:\n",
    "            images, labels = batch\n",
    "            images, labels = images.to(device), labels.to(device)\n",
    "\n",
    "            outputs = model(images)  # Predict\n",
    "\n",
    "            preds.extend(outputs.cpu().numpy().flatten())\n",
    "            targets.extend(labels.cpu().numpy().flatten())\n",
    "\n",
    "    return np.array(preds), np.array(targets)\n",
    "\n"
   ]
  },
  {
   "cell_type": "code",
   "execution_count": 97,
   "id": "f986081c",
   "metadata": {},
   "outputs": [],
   "source": [
    "def calculate_rmse(preds, targets):\n",
    "    \"\"\"\n",
    "    Compute Root Mean Squared Error (RMSE) between predictions and ground truth targets.\n",
    "    \"\"\"\n",
    "    preds = np.array(preds) if not isinstance(preds, np.ndarray) else preds\n",
    "    targets = np.array(targets) if not isinstance(targets, np.ndarray) else targets\n",
    "    \n",
    "    return np.sqrt(np.mean((preds - targets) ** 2))\n",
    "\n"
   ]
  },
  {
   "cell_type": "code",
   "execution_count": 98,
   "id": "83b6cf7d",
   "metadata": {},
   "outputs": [],
   "source": [
    "def calculate_MAPE(preds, targets):\n",
    "    preds = np.array(preds) if not isinstance(preds, np.ndarray) else preds\n",
    "    targets = np.array(targets) if not isinstance(targets, np.ndarray) else targets\n",
    "    res = []\n",
    "    for i in range(len(targets)):\n",
    "        target = targets[i]\n",
    "        pred = preds[i]\n",
    "        if abs(target) < 1e-3:\n",
    "            continue\n",
    "        res.append((np.abs(pred - target) / target) * 100)\n",
    "    return np.mean(res)"
   ]
  },
  {
   "cell_type": "code",
   "execution_count": 99,
   "id": "64bdc90a",
   "metadata": {},
   "outputs": [],
   "source": [
    "def get_test_preds(model, dataloader, device=\"cuda\" if torch.cuda.is_available() else \"cpu\"):\n",
    "    preds = []\n",
    "    model.to(device)\n",
    "    model.eval()\n",
    "\n",
    "    with torch.no_grad():\n",
    "        for batch in dataloader:\n",
    "            images = batch if isinstance(batch, torch.Tensor) else batch[0]\n",
    "            images = images.to(device)\n",
    "\n",
    "            outputs = model(images)\n",
    "            preds.extend(outputs.cpu().numpy().flatten()) \n",
    "\n",
    "    return np.array(preds)\n",
    "\n"
   ]
  },
  {
   "cell_type": "markdown",
   "id": "d705dac0",
   "metadata": {},
   "source": [
    "### Без сегментации"
   ]
  },
  {
   "cell_type": "code",
   "execution_count": 100,
   "id": "8d724bb5",
   "metadata": {},
   "outputs": [],
   "source": [
    "def generate_regression_dataset(df : pd.DataFrame, output : str, src : str, type : str, do_segment : bool = False):\n",
    "    paths = []\n",
    "    was_segmented = []\n",
    "    widths = []\n",
    "    for _, row in tqdm(df.iterrows(), total = len(df), desc=\"Генерация датасета\"):\n",
    "        img, segm = merge_segmented_images(\n",
    "            root=src,\n",
    "            folder=row[\"FolderName\"],\n",
    "            side=row[\"Side\"],\n",
    "            start=row[\"Start\"],\n",
    "            end=row[\"End\"],\n",
    "            do_segment=do_segment\n",
    "        )\n",
    "        img_path = os.path.join(output, f'{row[\"ID\"]}.png')\n",
    "        img.save(img_path)\n",
    "        paths.append(img_path)\n",
    "        was_segmented.append(segm)\n",
    "        widths.append(img.width)\n",
    "    df[\"WasSegmented\"] = was_segmented\n",
    "    df[\"ImageSegments\"] = paths\n",
    "    df[\"Width\"] = widths\n",
    "    df.to_csv(f\"data/{type}CNN.csv\")\n",
    "    return df"
   ]
  },
  {
   "cell_type": "code",
   "execution_count": 101,
   "id": "a879e4c9",
   "metadata": {},
   "outputs": [],
   "source": [
    "output_root = \"merged_images\"\n",
    "\n",
    "output_train = os.path.join(output_root, \"train\")\n",
    "output_test = os.path.join(output_root, \"test\")\n",
    "\n",
    "os.makedirs(output_train, exist_ok=True)\n",
    "os.makedirs(output_test, exist_ok=True)"
   ]
  },
  {
   "cell_type": "code",
   "execution_count": 102,
   "id": "ba283ea8",
   "metadata": {},
   "outputs": [],
   "source": [
    "from tqdm import tqdm"
   ]
  },
  {
   "cell_type": "code",
   "execution_count": 103,
   "id": "6849e1f9",
   "metadata": {},
   "outputs": [
    {
     "name": "stderr",
     "output_type": "stream",
     "text": [
      "Генерация датасета: 100%|██████████| 386/386 [01:34<00:00,  4.10it/s]\n",
      "Генерация датасета: 100%|██████████| 130/130 [00:31<00:00,  4.19it/s]\n"
     ]
    }
   ],
   "source": [
    "if not os.path.exists(\"data/trainCNN.csv\"):\n",
    "    new_train_df = generate_regression_dataset(train_df, output_train, train_data_path, type = \"train\", do_segment=False)\n",
    "    new_train_df[\"RootVolume\"] = new_train_df.groupby(\"FolderName\")[\"RootVolume\"].transform(\"mean\")\n",
    "else:\n",
    "    new_train_df = pd.read_csv(\"data/trainCNN.csv\")\n",
    "    \n",
    "if not os.path.exists(\"data/testCNN.csv\"):\n",
    "    new_test_df = generate_regression_dataset(test_df, output_test, test_data_path, type = \"test\")\n",
    "else:\n",
    "    new_test_df = pd.read_csv(\"data/testCNN.csv\")"
   ]
  },
  {
   "cell_type": "code",
   "execution_count": 104,
   "id": "e559ecb6",
   "metadata": {},
   "outputs": [],
   "source": [
    "from sklearn.model_selection import train_test_split\n",
    "\n",
    "train, test = train_test_split(new_train_df, test_size=0.2)\n"
   ]
  },
  {
   "cell_type": "code",
   "execution_count": 105,
   "id": "c507f538",
   "metadata": {},
   "outputs": [],
   "source": [
    "train_dataset = RootVolumeDataset(train, train_transform)\n",
    "test_dataset = RootVolumeDataset(test, test_transform)\n",
    "train_dataloader = DataLoader(\n",
    "    train_dataset,\n",
    "    batch_size=16,\n",
    "    shuffle=True,\n",
    "    num_workers=0,\n",
    "    pin_memory=True\n",
    ")\n",
    "\n",
    "test_dataloader = DataLoader(\n",
    "    test_dataset,\n",
    "    batch_size=16,\n",
    "    shuffle=False,\n",
    "    num_workers=0,\n",
    "    pin_memory=True\n",
    ")\n",
    "\n",
    "\n",
    "model = RootVolumeRegressor()\n",
    "\n",
    "if os.path.exists(\"cnn_models/model_no_seg.ckpt\"):\n",
    "    state_dict = torch.load(\"cnn_models/model_no_seg.ckpt\")['state_dict']\n",
    "    model.load_state_dict(state_dict)\n",
    "else:\n",
    "    trainer = L.Trainer(max_epochs = 20)\n",
    "    trainer.fit(model, train_dataloader)\n",
    "    os.makedirs(\"cnn_models\", exist_ok=True)\n",
    "    trainer.save_checkpoint(\"cnn_models/model_no_seg.ckpt\")"
   ]
  },
  {
   "cell_type": "code",
   "execution_count": 106,
   "id": "f38a2caa",
   "metadata": {},
   "outputs": [],
   "source": [
    "model = RootVolumeRegressor()\n",
    "\n",
    "# Load state dict\n",
    "if os.path.exists(\"cnn_models/model_no_seg.pt\"):\n",
    "    state_dict = torch.load(\"cnn_models/model_no_seg.pt\")['state_dict']\n",
    "    model.load_state_dict(state_dict)\n",
    "    model.eval()\n",
    "    dummy_input = torch.randn(1, 3, 128, 128)\n",
    "    torch.onnx.export(\n",
    "        model,\n",
    "        dummy_input,\n",
    "        \"./cnn_models/model_no_seg.onnx\",\n",
    "        export_params=True,\n",
    "        opset_version=14,\n",
    "        do_constant_folding=True,\n",
    "        input_names=[\"input\"],\n",
    "        output_names=[\"output\"],\n",
    "        dynamic_axes={\n",
    "            \"input\": {0: \"batch_size\"},\n",
    "            \"output\": {0: \"batch_size\"}\n",
    "        }\n",
    "    )"
   ]
  },
  {
   "cell_type": "code",
   "execution_count": 107,
   "id": "2332ec0b",
   "metadata": {},
   "outputs": [
    {
     "data": {
      "text/plain": [
       "<All keys matched successfully>"
      ]
     },
     "execution_count": 107,
     "metadata": {},
     "output_type": "execute_result"
    }
   ],
   "source": [
    "state_dict = torch.load(\"cnn_models/model_no_seg.pt\")['state_dict']\n",
    "model.load_state_dict(state_dict)"
   ]
  },
  {
   "cell_type": "code",
   "execution_count": 108,
   "id": "9d0cb912",
   "metadata": {},
   "outputs": [
    {
     "data": {
      "text/plain": [
       "np.float32(1.1007513)"
      ]
     },
     "execution_count": 108,
     "metadata": {},
     "output_type": "execute_result"
    }
   ],
   "source": [
    "preds, target = get_model_preds(model, test_dataloader)\n",
    "calculate_rmse(preds, target)"
   ]
  },
  {
   "cell_type": "code",
   "execution_count": 109,
   "id": "f517f7ac",
   "metadata": {},
   "outputs": [
    {
     "data": {
      "text/html": [
       "<div>\n",
       "<style scoped>\n",
       "    .dataframe tbody tr th:only-of-type {\n",
       "        vertical-align: middle;\n",
       "    }\n",
       "\n",
       "    .dataframe tbody tr th {\n",
       "        vertical-align: top;\n",
       "    }\n",
       "\n",
       "    .dataframe thead th {\n",
       "        text-align: right;\n",
       "    }\n",
       "</style>\n",
       "<table border=\"1\" class=\"dataframe\">\n",
       "  <thead>\n",
       "    <tr style=\"text-align: right;\">\n",
       "      <th></th>\n",
       "      <th>ID</th>\n",
       "      <th>FolderName</th>\n",
       "      <th>PlantNumber</th>\n",
       "      <th>Side</th>\n",
       "      <th>Start</th>\n",
       "      <th>End</th>\n",
       "      <th>RootVolume</th>\n",
       "      <th>Genotype</th>\n",
       "      <th>Stage</th>\n",
       "      <th>WasSegmented</th>\n",
       "      <th>ImageSegments</th>\n",
       "      <th>Width</th>\n",
       "      <th>Preds</th>\n",
       "      <th>MAPE</th>\n",
       "    </tr>\n",
       "  </thead>\n",
       "  <tbody>\n",
       "    <tr>\n",
       "      <th>260</th>\n",
       "      <td>ID_884849_Bmtyoy</td>\n",
       "      <td>Pfp24vx905</td>\n",
       "      <td>3</td>\n",
       "      <td>R</td>\n",
       "      <td>27</td>\n",
       "      <td>34</td>\n",
       "      <td>2.150</td>\n",
       "      <td>TMEB419</td>\n",
       "      <td>Early</td>\n",
       "      <td>False</td>\n",
       "      <td>merged_images/train/ID_884849_Bmtyoy.png</td>\n",
       "      <td>1022</td>\n",
       "      <td>1.950528</td>\n",
       "      <td>9.277787</td>\n",
       "    </tr>\n",
       "    <tr>\n",
       "      <th>320</th>\n",
       "      <td>ID_747419_Zihzns</td>\n",
       "      <td>F1p0lhe1ij</td>\n",
       "      <td>4</td>\n",
       "      <td>R</td>\n",
       "      <td>30</td>\n",
       "      <td>37</td>\n",
       "      <td>2.350</td>\n",
       "      <td>IITA-TMS-IBA000070</td>\n",
       "      <td>Early</td>\n",
       "      <td>False</td>\n",
       "      <td>merged_images/train/ID_747419_Zihzns.png</td>\n",
       "      <td>1036</td>\n",
       "      <td>1.819219</td>\n",
       "      <td>22.586443</td>\n",
       "    </tr>\n",
       "    <tr>\n",
       "      <th>144</th>\n",
       "      <td>ID_355808_Brk59j</td>\n",
       "      <td>Mrw7chmalv</td>\n",
       "      <td>6</td>\n",
       "      <td>L</td>\n",
       "      <td>18</td>\n",
       "      <td>23</td>\n",
       "      <td>2.100</td>\n",
       "      <td>IBA154810</td>\n",
       "      <td>Early</td>\n",
       "      <td>False</td>\n",
       "      <td>merged_images/train/ID_355808_Brk59j.png</td>\n",
       "      <td>915</td>\n",
       "      <td>2.338398</td>\n",
       "      <td>11.352289</td>\n",
       "    </tr>\n",
       "    <tr>\n",
       "      <th>52</th>\n",
       "      <td>ID_211500_Ndgm1d</td>\n",
       "      <td>Vbkivqphuz</td>\n",
       "      <td>5</td>\n",
       "      <td>L</td>\n",
       "      <td>20</td>\n",
       "      <td>32</td>\n",
       "      <td>2.100</td>\n",
       "      <td>TMEB693</td>\n",
       "      <td>Early</td>\n",
       "      <td>False</td>\n",
       "      <td>merged_images/train/ID_211500_Ndgm1d.png</td>\n",
       "      <td>955</td>\n",
       "      <td>2.190696</td>\n",
       "      <td>4.318885</td>\n",
       "    </tr>\n",
       "    <tr>\n",
       "      <th>210</th>\n",
       "      <td>ID_321332_Jptlgu</td>\n",
       "      <td>Pw4ytibfql</td>\n",
       "      <td>4</td>\n",
       "      <td>R</td>\n",
       "      <td>28</td>\n",
       "      <td>35</td>\n",
       "      <td>1.325</td>\n",
       "      <td>TMEB419</td>\n",
       "      <td>Early</td>\n",
       "      <td>False</td>\n",
       "      <td>merged_images/train/ID_321332_Jptlgu.png</td>\n",
       "      <td>975</td>\n",
       "      <td>1.978499</td>\n",
       "      <td>49.320667</td>\n",
       "    </tr>\n",
       "  </tbody>\n",
       "</table>\n",
       "</div>"
      ],
      "text/plain": [
       "                   ID  FolderName  PlantNumber Side  Start  End  RootVolume  \\\n",
       "260  ID_884849_Bmtyoy  Pfp24vx905            3    R     27   34       2.150   \n",
       "320  ID_747419_Zihzns  F1p0lhe1ij            4    R     30   37       2.350   \n",
       "144  ID_355808_Brk59j  Mrw7chmalv            6    L     18   23       2.100   \n",
       "52   ID_211500_Ndgm1d  Vbkivqphuz            5    L     20   32       2.100   \n",
       "210  ID_321332_Jptlgu  Pw4ytibfql            4    R     28   35       1.325   \n",
       "\n",
       "               Genotype  Stage  WasSegmented  \\\n",
       "260             TMEB419  Early         False   \n",
       "320  IITA-TMS-IBA000070  Early         False   \n",
       "144           IBA154810  Early         False   \n",
       "52              TMEB693  Early         False   \n",
       "210             TMEB419  Early         False   \n",
       "\n",
       "                                ImageSegments  Width     Preds       MAPE  \n",
       "260  merged_images/train/ID_884849_Bmtyoy.png   1022  1.950528   9.277787  \n",
       "320  merged_images/train/ID_747419_Zihzns.png   1036  1.819219  22.586443  \n",
       "144  merged_images/train/ID_355808_Brk59j.png    915  2.338398  11.352289  \n",
       "52   merged_images/train/ID_211500_Ndgm1d.png    955  2.190696   4.318885  \n",
       "210  merged_images/train/ID_321332_Jptlgu.png    975  1.978499  49.320667  "
      ]
     },
     "execution_count": 109,
     "metadata": {},
     "output_type": "execute_result"
    }
   ],
   "source": [
    "new_test_loader = DataLoader(\n",
    "    test_dataset,\n",
    "    batch_size=16,\n",
    "    shuffle=False,\n",
    "    num_workers=0,\n",
    "    pin_memory=True\n",
    ")\n",
    "preds, target = get_model_preds(model, test_dataloader)\n",
    "targets=target\n",
    "preds = np.array(preds) if not isinstance(preds, np.ndarray) else preds\n",
    "targets = np.array(targets) if not isinstance(targets, np.ndarray) else targets\n",
    "res = []\n",
    "for i in range(len(targets)):\n",
    "    target = targets[i]\n",
    "    pred = preds[i]\n",
    "    if abs(target) < 1e-3:\n",
    "        res.append(0)\n",
    "    else:\n",
    "        res.append((np.abs(pred - target) / target) * 100)\n",
    "\n",
    "\n",
    "test[\"Preds\"] = preds\n",
    "test[\"MAPE\"] = res\n",
    "test.head()"
   ]
  },
  {
   "cell_type": "code",
   "execution_count": 110,
   "id": "da061aaa",
   "metadata": {},
   "outputs": [],
   "source": [
    "import seaborn as sns"
   ]
  },
  {
   "cell_type": "code",
   "execution_count": 111,
   "id": "f46facfd",
   "metadata": {},
   "outputs": [
    {
     "data": {
      "image/png": "[encoded data removed]",
      "text/plain": [
       "<Figure size 800x600 with 1 Axes>"
      ]
     },
     "metadata": {},
     "output_type": "display_data"
    }
   ],
   "source": [
    "plt.figure(figsize=(8, 6))\n",
    "ax = sns.scatterplot(\n",
    "    data=test,\n",
    "    x='RootVolume',\n",
    "    y='MAPE',\n",
    "\n",
    "    # hue='color',\n",
    "    # palette={'Доп разметка': 'red', 'Без': 'blue'},\n",
    "    s=10, \n",
    "    # legend='full'\n",
    ")\n",
    "\n",
    "ax.set_yscale('log')\n",
    "ax.set_ylabel(\"Относительная ошибка, %\")\n",
    "ax.set_xlabel(\"Объём плода\")\n",
    "plt.grid(True)\n",
    "plt.show()"
   ]
  },
  {
   "cell_type": "code",
   "execution_count": 112,
   "id": "006e0cdb",
   "metadata": {},
   "outputs": [
    {
     "name": "stdout",
     "output_type": "stream",
     "text": [
      "26.334\n"
     ]
    }
   ],
   "source": [
    "print(np.round(np.quantile(test[\"MAPE\"], q=0.5), 3))"
   ]
  }
 ],
 "metadata": {
  "kernelspec": {
   "display_name": ".venv",
   "language": "python",
   "name": "python3"
  },
  "language_info": {
   "codemirror_mode": {
    "name": "ipython",
    "version": 3
   },
   "file_extension": ".py",
   "mimetype": "text/x-python",
   "name": "python",
   "nbconvert_exporter": "python",
   "pygments_lexer": "ipython3",
   "version": "3.12.7"
  }
 },
 "nbformat": 4,
 "nbformat_minor": 5
}
